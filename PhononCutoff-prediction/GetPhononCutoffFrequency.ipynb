{
 "cells": [
  {
   "cell_type": "code",
   "execution_count": 1,
   "id": "afb1f51a",
   "metadata": {
    "ExecuteTime": {
     "end_time": "2023-03-25T10:22:19.135150Z",
     "start_time": "2023-03-25T10:22:19.039276Z"
    }
   },
   "outputs": [],
   "source": [
    "import numpy as np\n",
    "import phonopy\n",
    "import yaml"
   ]
  },
  {
   "cell_type": "code",
   "execution_count": 15,
   "id": "d2ce05bf",
   "metadata": {
    "ExecuteTime": {
     "end_time": "2023-03-25T11:05:49.033584Z",
     "start_time": "2023-03-25T11:05:49.030383Z"
    }
   },
   "outputs": [],
   "source": [
    "ph_frequency_dict=[]"
   ]
  },
  {
   "cell_type": "code",
   "execution_count": 16,
   "id": "0854d2d3",
   "metadata": {
    "ExecuteTime": {
     "end_time": "2023-03-25T11:21:45.497854Z",
     "start_time": "2023-03-25T11:05:54.929710Z"
    }
   },
   "outputs": [],
   "source": [
    "for i in mpID:\n",
    "    # path for saving the raw data\n",
    "    # expand  e.g. mp-2879-20180417.tar\n",
    "    store = \"mp-2879-20180417\"\n",
    "    # store=\"mp-8110-20180417\"\n",
    "    ph = phonopy.load(\n",
    "                      phonopy_yaml = store+\"/disp.yaml\",\n",
    "                      force_sets_filename = store+\"/FORCE_SETS\"\n",
    "                     )\n",
    "#     ph.auto_band_structure(plot=True)\n",
    "    ph.auto_band_structure(plot=False,write_yaml=True, filename=store+\"/band.yaml\")\n",
    "    # get phonon cutoff frequency of materials     \n",
    "    with open(store+\"/band.yaml\") as f:\n",
    "           data = yaml.safe_load(f)\n",
    "\n",
    "    phonon=data['phonon']\n",
    "    maxNum = 0.00\n",
    "    for j in phonon:\n",
    "        band0 = j['band']\n",
    "        for i in band0:\n",
    "            if i['frequency']>maxNum:\n",
    "                maxNum = i['frequency']"
   ]
  }
 ],
 "metadata": {
  "kernelspec": {
   "display_name": "phonopy",
   "language": "python",
   "name": "phonopy"
  },
  "language_info": {
   "codemirror_mode": {
    "name": "ipython",
    "version": 3
   },
   "file_extension": ".py",
   "mimetype": "text/x-python",
   "name": "python",
   "nbconvert_exporter": "python",
   "pygments_lexer": "ipython3",
   "version": "3.9.16"
  },
  "toc": {
   "base_numbering": 1,
   "nav_menu": {},
   "number_sections": true,
   "sideBar": true,
   "skip_h1_title": false,
   "title_cell": "Table of Contents",
   "title_sidebar": "Contents",
   "toc_cell": false,
   "toc_position": {},
   "toc_section_display": true,
   "toc_window_display": false
  },
  "varInspector": {
   "cols": {
    "lenName": 16,
    "lenType": 16,
    "lenVar": 40
   },
   "kernels_config": {
    "python": {
     "delete_cmd_postfix": "",
     "delete_cmd_prefix": "del ",
     "library": "var_list.py",
     "varRefreshCmd": "print(var_dic_list())"
    },
    "r": {
     "delete_cmd_postfix": ") ",
     "delete_cmd_prefix": "rm(",
     "library": "var_list.r",
     "varRefreshCmd": "cat(var_dic_list()) "
    }
   },
   "types_to_exclude": [
    "module",
    "function",
    "builtin_function_or_method",
    "instance",
    "_Feature"
   ],
   "window_display": false
  },
  "widgets": {
   "application/vnd.jupyter.widget-state+json": {
    "state": {},
    "version_major": 2,
    "version_minor": 0
   }
  }
 },
 "nbformat": 4,
 "nbformat_minor": 5
}
