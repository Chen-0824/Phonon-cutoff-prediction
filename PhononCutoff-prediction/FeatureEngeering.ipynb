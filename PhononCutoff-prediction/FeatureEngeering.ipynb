{
 "cells": [
  {
   "cell_type": "code",
   "execution_count": 1,
   "id": "0f3f5a52-b0cb-4f85-914c-474823ced57c",
   "metadata": {},
   "outputs": [],
   "source": [
    "import matminer\n",
    "from matminer.featurizers.base import MultipleFeaturizer\n",
    "from matminer.featurizers import composition as cf\n",
    "from matminer.featurizers.conversions import StrToComposition\n",
    "import pandas as pd"
   ]
  },
  {
   "cell_type": "code",
   "execution_count": 2,
   "id": "0ac7c471-c279-4bf6-bb4d-259835aa78ee",
   "metadata": {},
   "outputs": [],
   "source": [
    "def multipleFeaturizer(df,composition):\n",
    "    df = StrToComposition(target_col_id='composition_obj').featurize_dataframe(df, composition,ignore_errors=True)\n",
    "    feature_calculators = MultipleFeaturizer([cf.ElementProperty(data_source = \"magpie\",\n",
    "                                           features = [\n",
    "                                                        \"Number\",\n",
    "                                                        \"MendeleevNumber\",\n",
    "                                                        \"MeltingT\",\n",
    "                                                        \"Column\",\n",
    "                                                        \"Row\",\n",
    "                                                        \"CovalentRadius\",\n",
    "                                                        \"Electronegativity\",\n",
    "                                                        \"NsValence\",\n",
    "                                                        \"NpValence\",\n",
    "                                                        \"NdValence\",\n",
    "                                                        \"NfValence\",\n",
    "                                                        \"NValence\",\n",
    "                                                        \"NsUnfilled\",\n",
    "                                                        \"NpUnfilled\",\n",
    "                                                        \"NdUnfilled\",\n",
    "                                                        \"NfUnfilled\",\n",
    "                                                        \"NUnfilled\",\n",
    "                                                        \"GSvolume_pa\",\n",
    "                                                    ], stats=[\"minimum\", \"maximum\",\"mean\", \"std_dev\"]),\n",
    "                   cf.ElementProperty(data_source = \"pymatgen\",\n",
    "                                           features = [\n",
    "                                                        \"block\",\n",
    "                                                        \"atomic_mass\",\n",
    "                                                        \"atomic_radius\",\n",
    "                                                        \"thermal_conductivity\",\n",
    "                                                    ],\n",
    "                                       stats=[\"minimum\", \"maximum\",\"mean\", \"std_dev\"])\n",
    "                   ]\n",
    "                    )\n",
    "\n",
    "    feature_labels = feature_calculators.feature_labels()\n",
    "\n",
    "    df = feature_calculators.featurize_dataframe(df, col_id='composition_obj',ignore_errors=True)\n",
    "\n",
    "    return df"
   ]
  },
  {
   "cell_type": "code",
   "execution_count": 5,
   "id": "f79e5b11-1cbd-4f44-a335-f564ab566144",
   "metadata": {},
   "outputs": [
    {
     "data": {
      "application/vnd.jupyter.widget-view+json": {
       "model_id": "29f2b6736f5d44859005d41a341fec35",
       "version_major": 2,
       "version_minor": 0
      },
      "text/plain": [
       "StrToComposition:   0%|          | 0/127 [00:00<?, ?it/s]"
      ]
     },
     "metadata": {},
     "output_type": "display_data"
    },
    {
     "data": {
      "application/vnd.jupyter.widget-view+json": {
       "model_id": "617d3dbb2bcc43b9b63090bbb03cb6ec",
       "version_major": 2,
       "version_minor": 0
      },
      "text/plain": [
       "MultipleFeaturizer:   0%|          | 0/127 [00:00<?, ?it/s]"
      ]
     },
     "metadata": {},
     "output_type": "display_data"
    }
   ],
   "source": [
    "# generated features by matminer&magpie\n",
    "df_train = pd.read_csv(\"path\")\n",
    "\n",
    "df_fearureEngeering = multipleFeaturizer(df = df_train,\"formula\")"
   ]
  }
 ],
 "metadata": {
  "kernelspec": {
   "display_name": "pymatgen",
   "language": "python",
   "name": "pymatgen"
  },
  "language_info": {
   "codemirror_mode": {
    "name": "ipython",
    "version": 3
   },
   "file_extension": ".py",
   "mimetype": "text/x-python",
   "name": "python",
   "nbconvert_exporter": "python",
   "pygments_lexer": "ipython3",
   "version": "3.9.16"
  },
  "widgets": {
   "application/vnd.jupyter.widget-state+json": {
    "state": {
     "02508c8311bd4edcb7109e2e2d12c8d8": {
      "model_module": "@jupyter-widgets/controls",
      "model_module_version": "2.0.0",
      "model_name": "FloatProgressModel",
      "state": {
       "bar_style": "success",
       "layout": "IPY_MODEL_7c903ee6e64d4ad98e8a2ae18878b6af",
       "max": 127,
       "style": "IPY_MODEL_47c9ebbcd21e4a26b94ea1eb4fb1e5fb",
       "value": 127
      }
     },
     "0379d38789ce46268a4fd1abddda741b": {
      "model_module": "@jupyter-widgets/base",
      "model_module_version": "2.0.0",
      "model_name": "LayoutModel",
      "state": {}
     },
     "06b44c37c5a040ee81d66e12df317968": {
      "model_module": "@jupyter-widgets/controls",
      "model_module_version": "2.0.0",
      "model_name": "FloatProgressModel",
      "state": {
       "bar_style": "success",
       "layout": "IPY_MODEL_0d234abcd5d24bee9d597f152dfbf514",
       "max": 127,
       "style": "IPY_MODEL_0ba03e8da9fb431fbbafecc12cd70401",
       "value": 127
      }
     },
     "0ba03e8da9fb431fbbafecc12cd70401": {
      "model_module": "@jupyter-widgets/controls",
      "model_module_version": "2.0.0",
      "model_name": "ProgressStyleModel",
      "state": {
       "description_width": ""
      }
     },
     "0d234abcd5d24bee9d597f152dfbf514": {
      "model_module": "@jupyter-widgets/base",
      "model_module_version": "2.0.0",
      "model_name": "LayoutModel",
      "state": {}
     },
     "152fb6dcc562411886db3344e4283420": {
      "model_module": "@jupyter-widgets/base",
      "model_module_version": "2.0.0",
      "model_name": "LayoutModel",
      "state": {}
     },
     "1a55257e95c44ce4bcc26f6d31fd3704": {
      "model_module": "@jupyter-widgets/base",
      "model_module_version": "2.0.0",
      "model_name": "LayoutModel",
      "state": {}
     },
     "1a6440aaf5f7478cae26d190441adf3e": {
      "model_module": "@jupyter-widgets/controls",
      "model_module_version": "2.0.0",
      "model_name": "HTMLStyleModel",
      "state": {
       "description_width": "",
       "font_size": null,
       "text_color": null
      }
     },
     "29f2b6736f5d44859005d41a341fec35": {
      "model_module": "@jupyter-widgets/controls",
      "model_module_version": "2.0.0",
      "model_name": "HBoxModel",
      "state": {
       "children": [
        "IPY_MODEL_ef08c37aa3fe447894bf1a0eeed26bd2",
        "IPY_MODEL_06b44c37c5a040ee81d66e12df317968",
        "IPY_MODEL_303e064c2ed347768171b259ead2ea73"
       ],
       "layout": "IPY_MODEL_152fb6dcc562411886db3344e4283420"
      }
     },
     "303e064c2ed347768171b259ead2ea73": {
      "model_module": "@jupyter-widgets/controls",
      "model_module_version": "2.0.0",
      "model_name": "HTMLModel",
      "state": {
       "layout": "IPY_MODEL_a5be71c356e64b1ea7df1aeedbd55a59",
       "style": "IPY_MODEL_1a6440aaf5f7478cae26d190441adf3e",
       "value": " 127/127 [00:00&lt;00:00,  7.75it/s]"
      }
     },
     "47c9ebbcd21e4a26b94ea1eb4fb1e5fb": {
      "model_module": "@jupyter-widgets/controls",
      "model_module_version": "2.0.0",
      "model_name": "ProgressStyleModel",
      "state": {
       "description_width": ""
      }
     },
     "5aae3f0d26114c6da05f1c85665639d0": {
      "model_module": "@jupyter-widgets/base",
      "model_module_version": "2.0.0",
      "model_name": "LayoutModel",
      "state": {}
     },
     "617d3dbb2bcc43b9b63090bbb03cb6ec": {
      "model_module": "@jupyter-widgets/controls",
      "model_module_version": "2.0.0",
      "model_name": "HBoxModel",
      "state": {
       "children": [
        "IPY_MODEL_7754d9def15d4e079cd093372e2cf764",
        "IPY_MODEL_02508c8311bd4edcb7109e2e2d12c8d8",
        "IPY_MODEL_9fb7492348844d619586eb78f40c90ce"
       ],
       "layout": "IPY_MODEL_0379d38789ce46268a4fd1abddda741b"
      }
     },
     "6435ce1ced5b48ad91bdf4fce118029a": {
      "model_module": "@jupyter-widgets/controls",
      "model_module_version": "2.0.0",
      "model_name": "HTMLStyleModel",
      "state": {
       "description_width": "",
       "font_size": null,
       "text_color": null
      }
     },
     "7754d9def15d4e079cd093372e2cf764": {
      "model_module": "@jupyter-widgets/controls",
      "model_module_version": "2.0.0",
      "model_name": "HTMLModel",
      "state": {
       "layout": "IPY_MODEL_1a55257e95c44ce4bcc26f6d31fd3704",
       "style": "IPY_MODEL_9f8335d429444deeb3d902fbf31bce7a",
       "value": "MultipleFeaturizer: 100%"
      }
     },
     "7c903ee6e64d4ad98e8a2ae18878b6af": {
      "model_module": "@jupyter-widgets/base",
      "model_module_version": "2.0.0",
      "model_name": "LayoutModel",
      "state": {}
     },
     "9f8335d429444deeb3d902fbf31bce7a": {
      "model_module": "@jupyter-widgets/controls",
      "model_module_version": "2.0.0",
      "model_name": "HTMLStyleModel",
      "state": {
       "description_width": "",
       "font_size": null,
       "text_color": null
      }
     },
     "9fb7492348844d619586eb78f40c90ce": {
      "model_module": "@jupyter-widgets/controls",
      "model_module_version": "2.0.0",
      "model_name": "HTMLModel",
      "state": {
       "layout": "IPY_MODEL_bea99f20334042529ec4a1ff6a417a29",
       "style": "IPY_MODEL_db989356fe544ec6b453777383e8bfa9",
       "value": " 127/127 [00:00&lt;00:00, 462.53it/s]"
      }
     },
     "a5be71c356e64b1ea7df1aeedbd55a59": {
      "model_module": "@jupyter-widgets/base",
      "model_module_version": "2.0.0",
      "model_name": "LayoutModel",
      "state": {}
     },
     "bea99f20334042529ec4a1ff6a417a29": {
      "model_module": "@jupyter-widgets/base",
      "model_module_version": "2.0.0",
      "model_name": "LayoutModel",
      "state": {}
     },
     "db989356fe544ec6b453777383e8bfa9": {
      "model_module": "@jupyter-widgets/controls",
      "model_module_version": "2.0.0",
      "model_name": "HTMLStyleModel",
      "state": {
       "description_width": "",
       "font_size": null,
       "text_color": null
      }
     },
     "ef08c37aa3fe447894bf1a0eeed26bd2": {
      "model_module": "@jupyter-widgets/controls",
      "model_module_version": "2.0.0",
      "model_name": "HTMLModel",
      "state": {
       "layout": "IPY_MODEL_5aae3f0d26114c6da05f1c85665639d0",
       "style": "IPY_MODEL_6435ce1ced5b48ad91bdf4fce118029a",
       "value": "StrToComposition: 100%"
      }
     }
    },
    "version_major": 2,
    "version_minor": 0
   }
  }
 },
 "nbformat": 4,
 "nbformat_minor": 5
}
