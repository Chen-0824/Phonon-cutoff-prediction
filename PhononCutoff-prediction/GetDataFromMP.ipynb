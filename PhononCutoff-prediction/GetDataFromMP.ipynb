{
 "cells": [
  {
   "cell_type": "markdown",
   "id": "9ca05f1a-352c-4869-a3e7-712b3a192fbc",
   "metadata": {
    "tags": []
   },
   "source": [
    "# Obtain ABO3 data from materials project"
   ]
  },
  {
   "cell_type": "code",
   "execution_count": 2,
   "id": "8c4a83b1-e651-4c29-ae10-85d417f30911",
   "metadata": {},
   "outputs": [],
   "source": [
    "import pandas as pd\n",
    "from mp_api.client import MPRester\n",
    "\n",
    "# mp API-key\n",
    "api = \"api-key\""
   ]
  },
  {
   "cell_type": "code",
   "execution_count": 17,
   "id": "88875673-8d40-4219-8872-8067d0297161",
   "metadata": {},
   "outputs": [
    {
     "data": {
      "text/plain": [
       "'2022.10.28'"
      ]
     },
     "execution_count": 17,
     "metadata": {},
     "output_type": "execute_result"
    }
   ],
   "source": [
    "# View MP Version\n",
    "with MPRester(api_key=api) as mpr:\n",
    "    version=mpr.get_database_version()\n",
    "version"
   ]
  },
  {
   "cell_type": "code",
   "execution_count": 4,
   "id": "8a0d20b6-d9cb-46bf-8c61-15a7e0452f5d",
   "metadata": {
    "scrolled": true,
    "tags": []
   },
   "outputs": [
    {
     "data": {
      "application/vnd.jupyter.widget-view+json": {
       "model_id": "eae6f83981694792881073c6bd2c5bd6",
       "version_major": 2,
       "version_minor": 0
      },
      "text/plain": [
       "Retrieving SummaryDoc documents:   0%|          | 0/2544 [00:00<?, ?it/s]"
      ]
     },
     "metadata": {},
     "output_type": "display_data"
    },
    {
     "name": "stdout",
     "output_type": "stream",
     "text": [
      "2544\n"
     ]
    }
   ],
   "source": [
    "# Obtaining Materialdoc for ABO3 type materials\n",
    "with MPRester(api_key=api) as mpr:\n",
    "    results = mpr.summary.search(formula=\"**O3\")   \n",
    "    print(len(results))"
   ]
  },
  {
   "cell_type": "code",
   "execution_count": 44,
   "id": "b0de2ed7-948b-459d-9fb3-0f4726480fff",
   "metadata": {},
   "outputs": [],
   "source": [
    "# save ABO3 materials origin SummaryDoc\n",
    "df_result = pd.DataFrame(results)\n",
    "df_result.to_csv(\"ABO3_origin_SummaryDoc.csv\")"
   ]
  },
  {
   "cell_type": "markdown",
   "id": "df06e8dd-9c10-4d33-a84c-08b17bd3f35c",
   "metadata": {
    "tags": []
   },
   "source": [
    "# Preliminary cleaning of the ABO3 dataset"
   ]
  },
  {
   "cell_type": "code",
   "execution_count": 8,
   "id": "aa57c502-a939-4148-9134-03748203c47d",
   "metadata": {},
   "outputs": [],
   "source": [
    "# featureSet\n",
    "features = [\n",
    "            'material_id', \n",
    "            'formula', \n",
    "            'nsites', \n",
    "            'volume', \n",
    "            'density',\n",
    "            'space_group',\n",
    "            'spg_num',\n",
    "            'a', \n",
    "            'b',\n",
    "            'c',\n",
    "            'alpha',\n",
    "            'beta',\n",
    "            'gamma',\n",
    "            'Ef', \n",
    "            'Eg',\n",
    "            'e_total', \n",
    "            'e_ionic', \n",
    "            'e_electronic',\n",
    "            'is_stable',\n",
    "           ]"
   ]
  },
  {
   "cell_type": "code",
   "execution_count": 21,
   "id": "f6af6b53-b3f8-4ef5-89c0-29ee24503a09",
   "metadata": {
    "scrolled": true,
    "tags": []
   },
   "outputs": [
    {
     "name": "stderr",
     "output_type": "stream",
     "text": [
      "The frame.append method is deprecated and will be removed from pandas in a future version. Use pandas.concat instead.\n"
     ]
    }
   ],
   "source": [
    "abo3_dataset=pd.DataFrame(columns=features)\n",
    "for iterm in results:\n",
    "    abo3_dataset= abo3_dataset.append(\n",
    "                    pd.DataFrame({\n",
    "                            'formula':[iterm.formula_pretty], \n",
    "                            'nsites':[iterm.nsites], \n",
    "                            'volume':[iterm.volume], \n",
    "                            'density':[iterm.density],\n",
    "                            'space_group':[iterm.symmetry.symbol],\n",
    "                            'spg_num':[iterm.symmetry.number],\n",
    "                            'material_id':[iterm.material_id], \n",
    "                            'a':[iterm.structure.lattice.a], \n",
    "                            'b':[iterm.structure.lattice.b],\n",
    "                            'c':[iterm.structure.lattice.c],\n",
    "                            'alpha':[iterm.structure.lattice.alpha],\n",
    "                            'beta':[iterm.structure.lattice.beta],\n",
    "                            'gamma':[iterm.structure.lattice.gamma],\n",
    "                            'Ef':[iterm.formation_energy_per_atom], \n",
    "                            'e_total':[iterm.e_total], \n",
    "                            'e_ionic':[iterm.e_ionic], \n",
    "                            'e_electronic':[iterm.e_electronic],\n",
    "                            'Eg':[iterm.band_gap], \n",
    "                            'is_stable':[iterm.is_stable] \n",
    "                            }\n",
    "                        ),\n",
    "                        ignore_index=True\n",
    "                    )"
   ]
  }
 ],
 "metadata": {
  "kernelspec": {
   "display_name": "pymatgen",
   "language": "python",
   "name": "pymatgen"
  },
  "language_info": {
   "codemirror_mode": {
    "name": "ipython",
    "version": 3
   },
   "file_extension": ".py",
   "mimetype": "text/x-python",
   "name": "python",
   "nbconvert_exporter": "python",
   "pygments_lexer": "ipython3",
   "version": "3.9.16"
  },
  "toc-autonumbering": true,
  "widgets": {
   "application/vnd.jupyter.widget-state+json": {
    "state": {
     "13146028812e4b72bc52e74da5f63a99": {
      "model_module": "@jupyter-widgets/base",
      "model_module_version": "2.0.0",
      "model_name": "LayoutModel",
      "state": {}
     },
     "1672be411757499698adc6cb8d75cd85": {
      "model_module": "@jupyter-widgets/controls",
      "model_module_version": "2.0.0",
      "model_name": "HTMLModel",
      "state": {
       "layout": "IPY_MODEL_6bace9195fb841868c6be265ad9aeb59",
       "style": "IPY_MODEL_db1d5f82393e4d9ba1fcde9cccb42da7",
       "value": "Retrieving SummaryDoc documents: 100%"
      }
     },
     "1a7c970592ac47f8b0a1f1664a8a44a1": {
      "model_module": "@jupyter-widgets/controls",
      "model_module_version": "2.0.0",
      "model_name": "HTMLModel",
      "state": {
       "layout": "IPY_MODEL_da46109ac4b340d3ba4076d2c43d0863",
       "style": "IPY_MODEL_84f491962e634772b836c72b6136c2dc",
       "value": " 1/1 [00:00&lt;00:00, 68.76it/s]"
      }
     },
     "1aa67d75986744089fd786797bbbaf57": {
      "model_module": "@jupyter-widgets/controls",
      "model_module_version": "2.0.0",
      "model_name": "HTMLModel",
      "state": {
       "layout": "IPY_MODEL_c3a2d52eb8a04cefa20c9ce4b1d154c5",
       "style": "IPY_MODEL_3efe13b95ad7470eb61d19fcac5c479c",
       "value": " 1/1 [00:00&lt;00:00, 44.42it/s]"
      }
     },
     "1b6f9637cbfd41f7ab46f6b715db2b61": {
      "model_module": "@jupyter-widgets/base",
      "model_module_version": "2.0.0",
      "model_name": "LayoutModel",
      "state": {}
     },
     "234530216a1e44cc8633b511059e6015": {
      "model_module": "@jupyter-widgets/base",
      "model_module_version": "2.0.0",
      "model_name": "LayoutModel",
      "state": {}
     },
     "2552a22d23bd4b4abe167298e2eb7d72": {
      "model_module": "@jupyter-widgets/controls",
      "model_module_version": "2.0.0",
      "model_name": "HTMLStyleModel",
      "state": {
       "description_width": "",
       "font_size": null,
       "text_color": null
      }
     },
     "280e1981e1b14a5d8ccc8939a4f92628": {
      "model_module": "@jupyter-widgets/base",
      "model_module_version": "2.0.0",
      "model_name": "LayoutModel",
      "state": {}
     },
     "2d744f36507e40c8a97b38eac5b73efd": {
      "model_module": "@jupyter-widgets/controls",
      "model_module_version": "2.0.0",
      "model_name": "ProgressStyleModel",
      "state": {
       "description_width": ""
      }
     },
     "2fb1ceb5c24043fe845ef0a73cb42dde": {
      "model_module": "@jupyter-widgets/controls",
      "model_module_version": "2.0.0",
      "model_name": "HTMLModel",
      "state": {
       "layout": "IPY_MODEL_5b2f01e0d54b4b24a4224552910b75cc",
       "style": "IPY_MODEL_cd6757f4ddb5414188b9b2e7a0775a77",
       "value": " 34/34 [00:00&lt;00:00, 1133.31it/s]"
      }
     },
     "2fcca35ea2f6464eb471120e97861c9f": {
      "model_module": "@jupyter-widgets/controls",
      "model_module_version": "2.0.0",
      "model_name": "FloatProgressModel",
      "state": {
       "bar_style": "success",
       "layout": "IPY_MODEL_3dd03d7acb1e43d786edb7207de11f83",
       "max": 35,
       "style": "IPY_MODEL_99509f2093ec4dc799be803b6f9ef146",
       "value": 35
      }
     },
     "30b815ad7af74784be74bb9c9408cc25": {
      "model_module": "@jupyter-widgets/controls",
      "model_module_version": "2.0.0",
      "model_name": "HTMLStyleModel",
      "state": {
       "description_width": "",
       "font_size": null,
       "text_color": null
      }
     },
     "3b0c5a4ffd174eec84979e6de8f28528": {
      "model_module": "@jupyter-widgets/base",
      "model_module_version": "2.0.0",
      "model_name": "LayoutModel",
      "state": {}
     },
     "3d883a4eedef4b8db74a795b0262c0a1": {
      "model_module": "@jupyter-widgets/controls",
      "model_module_version": "2.0.0",
      "model_name": "HBoxModel",
      "state": {
       "children": [
        "IPY_MODEL_9fdd75c193bb4d179a2bd0072f8789a9",
        "IPY_MODEL_8d8bf1bd24ba47e28d0c77d2728c4fd8",
        "IPY_MODEL_1a7c970592ac47f8b0a1f1664a8a44a1"
       ],
       "layout": "IPY_MODEL_13146028812e4b72bc52e74da5f63a99"
      }
     },
     "3dd03d7acb1e43d786edb7207de11f83": {
      "model_module": "@jupyter-widgets/base",
      "model_module_version": "2.0.0",
      "model_name": "LayoutModel",
      "state": {}
     },
     "3efe13b95ad7470eb61d19fcac5c479c": {
      "model_module": "@jupyter-widgets/controls",
      "model_module_version": "2.0.0",
      "model_name": "HTMLStyleModel",
      "state": {
       "description_width": "",
       "font_size": null,
       "text_color": null
      }
     },
     "3f5674e4a52d410e910ff532aaf03a66": {
      "model_module": "@jupyter-widgets/controls",
      "model_module_version": "2.0.0",
      "model_name": "HTMLStyleModel",
      "state": {
       "description_width": "",
       "font_size": null,
       "text_color": null
      }
     },
     "5b2f01e0d54b4b24a4224552910b75cc": {
      "model_module": "@jupyter-widgets/base",
      "model_module_version": "2.0.0",
      "model_name": "LayoutModel",
      "state": {}
     },
     "5b5129e7327045369836d0cd7e91740f": {
      "model_module": "@jupyter-widgets/controls",
      "model_module_version": "2.0.0",
      "model_name": "HBoxModel",
      "state": {
       "children": [
        "IPY_MODEL_995c977da01e428981ec36d6c6b093e9",
        "IPY_MODEL_e89afce4ae4441b19d321af8e6fe9508",
        "IPY_MODEL_1aa67d75986744089fd786797bbbaf57"
       ],
       "layout": "IPY_MODEL_98c3af28d4d5441db9d0e7dca2b219f9"
      }
     },
     "65cb5795a1d74209b3f6e97ddc601dc4": {
      "model_module": "@jupyter-widgets/controls",
      "model_module_version": "2.0.0",
      "model_name": "HTMLModel",
      "state": {
       "layout": "IPY_MODEL_1b6f9637cbfd41f7ab46f6b715db2b61",
       "style": "IPY_MODEL_3f5674e4a52d410e910ff532aaf03a66",
       "value": " 35/35 [00:00&lt;00:00, 1207.69it/s]"
      }
     },
     "660bb7f1d9b84b78b3474da3bcd17a99": {
      "model_module": "@jupyter-widgets/base",
      "model_module_version": "2.0.0",
      "model_name": "LayoutModel",
      "state": {}
     },
     "6bace9195fb841868c6be265ad9aeb59": {
      "model_module": "@jupyter-widgets/base",
      "model_module_version": "2.0.0",
      "model_name": "LayoutModel",
      "state": {}
     },
     "7806d8cf3c444491b3c87c6c4fc48984": {
      "model_module": "@jupyter-widgets/controls",
      "model_module_version": "2.0.0",
      "model_name": "FloatProgressModel",
      "state": {
       "bar_style": "success",
       "layout": "IPY_MODEL_660bb7f1d9b84b78b3474da3bcd17a99",
       "max": 1,
       "style": "IPY_MODEL_93c20046079643b6b04b1c19c6c9c7b8",
       "value": 1
      }
     },
     "78227415659347c68c917d7d59b8519b": {
      "model_module": "@jupyter-widgets/base",
      "model_module_version": "2.0.0",
      "model_name": "LayoutModel",
      "state": {}
     },
     "7e2e57767f3d4113ad6ea24e28e52760": {
      "model_module": "@jupyter-widgets/base",
      "model_module_version": "2.0.0",
      "model_name": "LayoutModel",
      "state": {}
     },
     "82192a6129834cbd9ad6fa3d6bd66fab": {
      "model_module": "@jupyter-widgets/controls",
      "model_module_version": "2.0.0",
      "model_name": "HTMLModel",
      "state": {
       "layout": "IPY_MODEL_7e2e57767f3d4113ad6ea24e28e52760",
       "style": "IPY_MODEL_a9e335c3e26b48c6a74ffdd5c0c743a1",
       "value": "Retrieving SummaryDoc documents: 100%"
      }
     },
     "84f491962e634772b836c72b6136c2dc": {
      "model_module": "@jupyter-widgets/controls",
      "model_module_version": "2.0.0",
      "model_name": "HTMLStyleModel",
      "state": {
       "description_width": "",
       "font_size": null,
       "text_color": null
      }
     },
     "85cee09f2041474493edc34c78ff5e54": {
      "model_module": "@jupyter-widgets/controls",
      "model_module_version": "2.0.0",
      "model_name": "ProgressStyleModel",
      "state": {
       "description_width": ""
      }
     },
     "8d8bf1bd24ba47e28d0c77d2728c4fd8": {
      "model_module": "@jupyter-widgets/controls",
      "model_module_version": "2.0.0",
      "model_name": "FloatProgressModel",
      "state": {
       "bar_style": "success",
       "layout": "IPY_MODEL_ee5bab86cd87418e81ad7e6d933f6601",
       "max": 1,
       "style": "IPY_MODEL_b526efaeee924feb9352f179def078e5",
       "value": 1
      }
     },
     "9103f68c6b99431fa847f29b0b3b0e28": {
      "model_module": "@jupyter-widgets/controls",
      "model_module_version": "2.0.0",
      "model_name": "HTMLStyleModel",
      "state": {
       "description_width": "",
       "font_size": null,
       "text_color": null
      }
     },
     "93c20046079643b6b04b1c19c6c9c7b8": {
      "model_module": "@jupyter-widgets/controls",
      "model_module_version": "2.0.0",
      "model_name": "ProgressStyleModel",
      "state": {
       "description_width": ""
      }
     },
     "987acbc72b794a58853ff6abaac25da7": {
      "model_module": "@jupyter-widgets/controls",
      "model_module_version": "2.0.0",
      "model_name": "HTMLModel",
      "state": {
       "layout": "IPY_MODEL_3b0c5a4ffd174eec84979e6de8f28528",
       "style": "IPY_MODEL_30b815ad7af74784be74bb9c9408cc25",
       "value": " 1/1 [00:00&lt;00:00, 125.04it/s]"
      }
     },
     "98c3af28d4d5441db9d0e7dca2b219f9": {
      "model_module": "@jupyter-widgets/base",
      "model_module_version": "2.0.0",
      "model_name": "LayoutModel",
      "state": {}
     },
     "99509f2093ec4dc799be803b6f9ef146": {
      "model_module": "@jupyter-widgets/controls",
      "model_module_version": "2.0.0",
      "model_name": "ProgressStyleModel",
      "state": {
       "description_width": ""
      }
     },
     "995c977da01e428981ec36d6c6b093e9": {
      "model_module": "@jupyter-widgets/controls",
      "model_module_version": "2.0.0",
      "model_name": "HTMLModel",
      "state": {
       "layout": "IPY_MODEL_9d7d815ae09249acbbc83bbf2d072dc5",
       "style": "IPY_MODEL_d8288d5e684543ab84593c6d3127d38f",
       "value": "Retrieving SummaryDoc documents: 100%"
      }
     },
     "9d7d815ae09249acbbc83bbf2d072dc5": {
      "model_module": "@jupyter-widgets/base",
      "model_module_version": "2.0.0",
      "model_name": "LayoutModel",
      "state": {}
     },
     "9fdd75c193bb4d179a2bd0072f8789a9": {
      "model_module": "@jupyter-widgets/controls",
      "model_module_version": "2.0.0",
      "model_name": "HTMLModel",
      "state": {
       "layout": "IPY_MODEL_e2c2dae3a17846799358f76a5ed9e670",
       "style": "IPY_MODEL_b7894abe567344b08c69db784083bc10",
       "value": "Retrieving SummaryDoc documents: 100%"
      }
     },
     "a641a13d0a0e4768bc5f36eb3f0ccb1e": {
      "model_module": "@jupyter-widgets/controls",
      "model_module_version": "2.0.0",
      "model_name": "HBoxModel",
      "state": {
       "children": [
        "IPY_MODEL_82192a6129834cbd9ad6fa3d6bd66fab",
        "IPY_MODEL_bd80a7c22e1c4c6cb5785478ebb478f0",
        "IPY_MODEL_2fb1ceb5c24043fe845ef0a73cb42dde"
       ],
       "layout": "IPY_MODEL_db162e21607d41d2bb44d239965bbab5"
      }
     },
     "a9e335c3e26b48c6a74ffdd5c0c743a1": {
      "model_module": "@jupyter-widgets/controls",
      "model_module_version": "2.0.0",
      "model_name": "HTMLStyleModel",
      "state": {
       "description_width": "",
       "font_size": null,
       "text_color": null
      }
     },
     "b526efaeee924feb9352f179def078e5": {
      "model_module": "@jupyter-widgets/controls",
      "model_module_version": "2.0.0",
      "model_name": "ProgressStyleModel",
      "state": {
       "description_width": ""
      }
     },
     "b7894abe567344b08c69db784083bc10": {
      "model_module": "@jupyter-widgets/controls",
      "model_module_version": "2.0.0",
      "model_name": "HTMLStyleModel",
      "state": {
       "description_width": "",
       "font_size": null,
       "text_color": null
      }
     },
     "bd80a7c22e1c4c6cb5785478ebb478f0": {
      "model_module": "@jupyter-widgets/controls",
      "model_module_version": "2.0.0",
      "model_name": "FloatProgressModel",
      "state": {
       "bar_style": "success",
       "layout": "IPY_MODEL_c16e3a7a97cf45f48ded6e4b8584d29a",
       "max": 34,
       "style": "IPY_MODEL_2d744f36507e40c8a97b38eac5b73efd",
       "value": 34
      }
     },
     "c16e3a7a97cf45f48ded6e4b8584d29a": {
      "model_module": "@jupyter-widgets/base",
      "model_module_version": "2.0.0",
      "model_name": "LayoutModel",
      "state": {}
     },
     "c301416e859740f896b3941feddbc2e0": {
      "model_module": "@jupyter-widgets/controls",
      "model_module_version": "2.0.0",
      "model_name": "FloatProgressModel",
      "state": {
       "bar_style": "success",
       "layout": "IPY_MODEL_f0db9506ad094c009d32edc7fc61ef09",
       "max": 35,
       "style": "IPY_MODEL_85cee09f2041474493edc34c78ff5e54",
       "value": 35
      }
     },
     "c3a2d52eb8a04cefa20c9ce4b1d154c5": {
      "model_module": "@jupyter-widgets/base",
      "model_module_version": "2.0.0",
      "model_name": "LayoutModel",
      "state": {}
     },
     "cd6757f4ddb5414188b9b2e7a0775a77": {
      "model_module": "@jupyter-widgets/controls",
      "model_module_version": "2.0.0",
      "model_name": "HTMLStyleModel",
      "state": {
       "description_width": "",
       "font_size": null,
       "text_color": null
      }
     },
     "cd7d4414dea746edaeb06a21643e263a": {
      "model_module": "@jupyter-widgets/base",
      "model_module_version": "2.0.0",
      "model_name": "LayoutModel",
      "state": {}
     },
     "d55108541ba74aa79207dea9636c17d3": {
      "model_module": "@jupyter-widgets/controls",
      "model_module_version": "2.0.0",
      "model_name": "HTMLModel",
      "state": {
       "layout": "IPY_MODEL_280e1981e1b14a5d8ccc8939a4f92628",
       "style": "IPY_MODEL_2552a22d23bd4b4abe167298e2eb7d72",
       "value": " 35/35 [00:00&lt;00:00, 1166.70it/s]"
      }
     },
     "d5e4094cebbb46a88895bbdd325107b3": {
      "model_module": "@jupyter-widgets/base",
      "model_module_version": "2.0.0",
      "model_name": "LayoutModel",
      "state": {}
     },
     "d5f256340cea4331801ff546f739f061": {
      "model_module": "@jupyter-widgets/base",
      "model_module_version": "2.0.0",
      "model_name": "LayoutModel",
      "state": {}
     },
     "d782569a03e64638807eabda725dfa90": {
      "model_module": "@jupyter-widgets/controls",
      "model_module_version": "2.0.0",
      "model_name": "HBoxModel",
      "state": {
       "children": [
        "IPY_MODEL_fd3bf44ef5c64bd581fc69902c4728ba",
        "IPY_MODEL_c301416e859740f896b3941feddbc2e0",
        "IPY_MODEL_65cb5795a1d74209b3f6e97ddc601dc4"
       ],
       "layout": "IPY_MODEL_d5e4094cebbb46a88895bbdd325107b3"
      }
     },
     "d8288d5e684543ab84593c6d3127d38f": {
      "model_module": "@jupyter-widgets/controls",
      "model_module_version": "2.0.0",
      "model_name": "HTMLStyleModel",
      "state": {
       "description_width": "",
       "font_size": null,
       "text_color": null
      }
     },
     "da46109ac4b340d3ba4076d2c43d0863": {
      "model_module": "@jupyter-widgets/base",
      "model_module_version": "2.0.0",
      "model_name": "LayoutModel",
      "state": {}
     },
     "da51d79a98b54b7db9d9dd727e28cf20": {
      "model_module": "@jupyter-widgets/controls",
      "model_module_version": "2.0.0",
      "model_name": "HTMLStyleModel",
      "state": {
       "description_width": "",
       "font_size": null,
       "text_color": null
      }
     },
     "db162e21607d41d2bb44d239965bbab5": {
      "model_module": "@jupyter-widgets/base",
      "model_module_version": "2.0.0",
      "model_name": "LayoutModel",
      "state": {}
     },
     "db1d5f82393e4d9ba1fcde9cccb42da7": {
      "model_module": "@jupyter-widgets/controls",
      "model_module_version": "2.0.0",
      "model_name": "HTMLStyleModel",
      "state": {
       "description_width": "",
       "font_size": null,
       "text_color": null
      }
     },
     "e1bad6fb7f014acd97c55ef9c6d78398": {
      "model_module": "@jupyter-widgets/controls",
      "model_module_version": "2.0.0",
      "model_name": "ProgressStyleModel",
      "state": {
       "description_width": ""
      }
     },
     "e2c2dae3a17846799358f76a5ed9e670": {
      "model_module": "@jupyter-widgets/base",
      "model_module_version": "2.0.0",
      "model_name": "LayoutModel",
      "state": {}
     },
     "e89afce4ae4441b19d321af8e6fe9508": {
      "model_module": "@jupyter-widgets/controls",
      "model_module_version": "2.0.0",
      "model_name": "FloatProgressModel",
      "state": {
       "bar_style": "success",
       "layout": "IPY_MODEL_78227415659347c68c917d7d59b8519b",
       "max": 1,
       "style": "IPY_MODEL_e1bad6fb7f014acd97c55ef9c6d78398",
       "value": 1
      }
     },
     "ea0698d0b7584b18aca3113e6734e27e": {
      "model_module": "@jupyter-widgets/controls",
      "model_module_version": "2.0.0",
      "model_name": "HBoxModel",
      "state": {
       "children": [
        "IPY_MODEL_1672be411757499698adc6cb8d75cd85",
        "IPY_MODEL_2fcca35ea2f6464eb471120e97861c9f",
        "IPY_MODEL_d55108541ba74aa79207dea9636c17d3"
       ],
       "layout": "IPY_MODEL_f436d90b96584e4395e18f71ec2d276d"
      }
     },
     "ed8de372d8aa49f1a03cc8c8de0e7aff": {
      "model_module": "@jupyter-widgets/controls",
      "model_module_version": "2.0.0",
      "model_name": "HBoxModel",
      "state": {
       "children": [
        "IPY_MODEL_fcccbf2fcb5e4d67b09266c2c85c6af4",
        "IPY_MODEL_7806d8cf3c444491b3c87c6c4fc48984",
        "IPY_MODEL_987acbc72b794a58853ff6abaac25da7"
       ],
       "layout": "IPY_MODEL_234530216a1e44cc8633b511059e6015"
      }
     },
     "ee5bab86cd87418e81ad7e6d933f6601": {
      "model_module": "@jupyter-widgets/base",
      "model_module_version": "2.0.0",
      "model_name": "LayoutModel",
      "state": {}
     },
     "f0db9506ad094c009d32edc7fc61ef09": {
      "model_module": "@jupyter-widgets/base",
      "model_module_version": "2.0.0",
      "model_name": "LayoutModel",
      "state": {}
     },
     "f436d90b96584e4395e18f71ec2d276d": {
      "model_module": "@jupyter-widgets/base",
      "model_module_version": "2.0.0",
      "model_name": "LayoutModel",
      "state": {}
     },
     "fcccbf2fcb5e4d67b09266c2c85c6af4": {
      "model_module": "@jupyter-widgets/controls",
      "model_module_version": "2.0.0",
      "model_name": "HTMLModel",
      "state": {
       "layout": "IPY_MODEL_cd7d4414dea746edaeb06a21643e263a",
       "style": "IPY_MODEL_9103f68c6b99431fa847f29b0b3b0e28",
       "value": "Retrieving SummaryDoc documents: 100%"
      }
     },
     "fd3bf44ef5c64bd581fc69902c4728ba": {
      "model_module": "@jupyter-widgets/controls",
      "model_module_version": "2.0.0",
      "model_name": "HTMLModel",
      "state": {
       "layout": "IPY_MODEL_d5f256340cea4331801ff546f739f061",
       "style": "IPY_MODEL_da51d79a98b54b7db9d9dd727e28cf20",
       "value": "Retrieving SummaryDoc documents: 100%"
      }
     }
    },
    "version_major": 2,
    "version_minor": 0
   }
  }
 },
 "nbformat": 4,
 "nbformat_minor": 5
}
